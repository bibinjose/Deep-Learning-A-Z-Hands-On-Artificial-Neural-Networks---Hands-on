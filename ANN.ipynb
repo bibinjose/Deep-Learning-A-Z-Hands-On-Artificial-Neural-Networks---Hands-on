{
 "cells": [
  {
   "cell_type": "markdown",
   "metadata": {},
   "source": [
    "check whether a customer will leave the bank"
   ]
  },
  {
   "cell_type": "code",
   "execution_count": 24,
   "metadata": {},
   "outputs": [],
   "source": [
    "# Importing the libraries\n",
    "import numpy as np\n",
    "import matplotlib.pyplot as plt\n",
    "import pandas as pd\n",
    "\n",
    "# Importing the dataset\n",
    "dataset = pd.read_csv('Churn_Modelling.csv')\n",
    "X = dataset.iloc[:, 3:13].values\n",
    "y = dataset.iloc[:, 13].values\n",
    "\n"
   ]
  },
  {
   "cell_type": "code",
   "execution_count": 25,
   "metadata": {},
   "outputs": [
    {
     "data": {
      "text/plain": [
       "array([[619, 'France', 'Female', ..., 1, 1, 101348.88],\n",
       "       [608, 'Spain', 'Female', ..., 0, 1, 112542.58],\n",
       "       [502, 'France', 'Female', ..., 1, 0, 113931.57],\n",
       "       ...,\n",
       "       [709, 'France', 'Female', ..., 0, 1, 42085.58],\n",
       "       [772, 'Germany', 'Male', ..., 1, 0, 92888.52],\n",
       "       [792, 'France', 'Female', ..., 1, 0, 38190.78]], dtype=object)"
      ]
     },
     "execution_count": 25,
     "metadata": {},
     "output_type": "execute_result"
    }
   ],
   "source": [
    "X"
   ]
  },
  {
   "cell_type": "code",
   "execution_count": 26,
   "metadata": {},
   "outputs": [
    {
     "data": {
      "text/plain": [
       "array([608, 'Spain', 'Female', 41, 1, 83807.86, 1, 0, 1, 112542.58],\n",
       "      dtype=object)"
      ]
     },
     "execution_count": 26,
     "metadata": {},
     "output_type": "execute_result"
    }
   ],
   "source": [
    "org_data=X[1]\n",
    "org_data"
   ]
  },
  {
   "cell_type": "code",
   "execution_count": 27,
   "metadata": {},
   "outputs": [
    {
     "data": {
      "text/plain": [
       "array([1, 0, 1, ..., 1, 1, 0], dtype=int64)"
      ]
     },
     "execution_count": 27,
     "metadata": {},
     "output_type": "execute_result"
    }
   ],
   "source": [
    "y"
   ]
  },
  {
   "cell_type": "code",
   "execution_count": 28,
   "metadata": {},
   "outputs": [],
   "source": [
    "# Encoding categorical data\n",
    "\n",
    "from sklearn.preprocessing import LabelEncoder, OneHotEncoder\n",
    "labelencoder_X_1 = LabelEncoder()\n",
    "X[:, 1] = labelencoder_X_1.fit_transform(X[:, 1])\n",
    "labelencoder_X_2 = LabelEncoder()\n",
    "X[:, 2] = labelencoder_X_2.fit_transform(X[:, 2])\n",
    "onehotencoder = OneHotEncoder(categorical_features = [1])\n",
    "X = onehotencoder.fit_transform(X).toarray()\n",
    "X = X[:, 1:]\n",
    "\n",
    "# Splitting the dataset into the Training set and Test set\n",
    "from sklearn.model_selection import train_test_split\n",
    "X_train, X_test, y_train, y_test = train_test_split(X, y, test_size = 0.2, random_state = 0)\n",
    "\n",
    "# Feature Scaling\n",
    "from sklearn.preprocessing import StandardScaler\n",
    "sc = StandardScaler()\n",
    "X_train = sc.fit_transform(X_train)\n",
    "X_test = sc.transform(X_test)"
   ]
  },
  {
   "cell_type": "code",
   "execution_count": 29,
   "metadata": {},
   "outputs": [
    {
     "data": {
      "text/plain": [
       "array([1, 0, 1, ..., 1, 1, 0], dtype=int64)"
      ]
     },
     "execution_count": 29,
     "metadata": {},
     "output_type": "execute_result"
    }
   ],
   "source": [
    "y"
   ]
  },
  {
   "cell_type": "code",
   "execution_count": 30,
   "metadata": {},
   "outputs": [
    {
     "data": {
      "text/plain": [
       "array([[0.0000000e+00, 0.0000000e+00, 6.1900000e+02, ..., 1.0000000e+00,\n",
       "        1.0000000e+00, 1.0134888e+05],\n",
       "       [0.0000000e+00, 1.0000000e+00, 6.0800000e+02, ..., 0.0000000e+00,\n",
       "        1.0000000e+00, 1.1254258e+05],\n",
       "       [0.0000000e+00, 0.0000000e+00, 5.0200000e+02, ..., 1.0000000e+00,\n",
       "        0.0000000e+00, 1.1393157e+05],\n",
       "       ...,\n",
       "       [0.0000000e+00, 0.0000000e+00, 7.0900000e+02, ..., 0.0000000e+00,\n",
       "        1.0000000e+00, 4.2085580e+04],\n",
       "       [1.0000000e+00, 0.0000000e+00, 7.7200000e+02, ..., 1.0000000e+00,\n",
       "        0.0000000e+00, 9.2888520e+04],\n",
       "       [0.0000000e+00, 0.0000000e+00, 7.9200000e+02, ..., 1.0000000e+00,\n",
       "        0.0000000e+00, 3.8190780e+04]])"
      ]
     },
     "execution_count": 30,
     "metadata": {},
     "output_type": "execute_result"
    }
   ],
   "source": [
    "X"
   ]
  },
  {
   "cell_type": "code",
   "execution_count": 31,
   "metadata": {},
   "outputs": [
    {
     "data": {
      "text/plain": [
       "array([0.0000000e+00, 1.0000000e+00, 6.0800000e+02, 0.0000000e+00,\n",
       "       4.1000000e+01, 1.0000000e+00, 8.3807860e+04, 1.0000000e+00,\n",
       "       0.0000000e+00, 1.0000000e+00, 1.1254258e+05])"
      ]
     },
     "execution_count": 31,
     "metadata": {},
     "output_type": "execute_result"
    }
   ],
   "source": [
    "Encoded_data=X[1]\n",
    "Encoded_data"
   ]
  },
  {
   "cell_type": "code",
   "execution_count": 32,
   "metadata": {},
   "outputs": [
    {
     "data": {
      "text/plain": [
       "array([[-0.5698444 ,  1.74309049,  0.16958176, ...,  0.64259497,\n",
       "        -1.03227043,  1.10643166],\n",
       "       [ 1.75486502, -0.57369368, -2.30455945, ...,  0.64259497,\n",
       "         0.9687384 , -0.74866447],\n",
       "       [-0.5698444 , -0.57369368, -1.19119591, ...,  0.64259497,\n",
       "        -1.03227043,  1.48533467],\n",
       "       ...,\n",
       "       [-0.5698444 , -0.57369368,  0.9015152 , ...,  0.64259497,\n",
       "        -1.03227043,  1.41231994],\n",
       "       [-0.5698444 ,  1.74309049, -0.62420521, ...,  0.64259497,\n",
       "         0.9687384 ,  0.84432121],\n",
       "       [ 1.75486502, -0.57369368, -0.28401079, ...,  0.64259497,\n",
       "        -1.03227043,  0.32472465]])"
      ]
     },
     "execution_count": 32,
     "metadata": {},
     "output_type": "execute_result"
    }
   ],
   "source": [
    "X_train"
   ]
  },
  {
   "cell_type": "code",
   "execution_count": 33,
   "metadata": {},
   "outputs": [
    {
     "data": {
      "text/plain": [
       "array([[ 1.75486502, -0.57369368, -0.55204276, ...,  0.64259497,\n",
       "         0.9687384 ,  1.61085707],\n",
       "       [-0.5698444 , -0.57369368, -1.31490297, ...,  0.64259497,\n",
       "        -1.03227043,  0.49587037],\n",
       "       [-0.5698444 ,  1.74309049,  0.57162971, ...,  0.64259497,\n",
       "         0.9687384 , -0.42478674],\n",
       "       ...,\n",
       "       [-0.5698444 ,  1.74309049, -0.74791227, ...,  0.64259497,\n",
       "        -1.03227043,  0.71888467],\n",
       "       [ 1.75486502, -0.57369368, -0.00566991, ...,  0.64259497,\n",
       "         0.9687384 , -1.54507805],\n",
       "       [ 1.75486502, -0.57369368, -0.79945688, ...,  0.64259497,\n",
       "        -1.03227043,  1.61255917]])"
      ]
     },
     "execution_count": 33,
     "metadata": {},
     "output_type": "execute_result"
    }
   ],
   "source": [
    "X_test"
   ]
  },
  {
   "cell_type": "code",
   "execution_count": 34,
   "metadata": {},
   "outputs": [
    {
     "data": {
      "text/plain": [
       "array([0, 0, 0, ..., 0, 0, 1], dtype=int64)"
      ]
     },
     "execution_count": 34,
     "metadata": {},
     "output_type": "execute_result"
    }
   ],
   "source": [
    "y_train"
   ]
  },
  {
   "cell_type": "code",
   "execution_count": 35,
   "metadata": {},
   "outputs": [
    {
     "data": {
      "text/plain": [
       "array([0, 1, 0, ..., 0, 0, 0], dtype=int64)"
      ]
     },
     "execution_count": 35,
     "metadata": {},
     "output_type": "execute_result"
    }
   ],
   "source": [
    "y_test"
   ]
  },
  {
   "cell_type": "code",
   "execution_count": 36,
   "metadata": {},
   "outputs": [
    {
     "name": "stdout",
     "output_type": "stream",
     "text": [
      "Epoch 1/100\n",
      "8000/8000 [==============================] - 1s 136us/step - loss: 0.4884 - acc: 0.7957\n",
      "Epoch 2/100\n",
      "8000/8000 [==============================] - 1s 93us/step - loss: 0.4300 - acc: 0.7960\n",
      "Epoch 3/100\n",
      "8000/8000 [==============================] - 1s 92us/step - loss: 0.4267 - acc: 0.7987\n",
      "Epoch 4/100\n",
      "8000/8000 [==============================] - 1s 93us/step - loss: 0.4202 - acc: 0.8220\n",
      "Epoch 5/100\n",
      "8000/8000 [==============================] - 1s 94us/step - loss: 0.4136 - acc: 0.8275\n",
      "Epoch 6/100\n",
      "8000/8000 [==============================] - 1s 93us/step - loss: 0.4100 - acc: 0.8325\n",
      "Epoch 7/100\n",
      "8000/8000 [==============================] - 1s 94us/step - loss: 0.4071 - acc: 0.8316\n",
      "Epoch 8/100\n",
      "8000/8000 [==============================] - 1s 94us/step - loss: 0.4053 - acc: 0.8335\n",
      "Epoch 9/100\n",
      "8000/8000 [==============================] - 1s 95us/step - loss: 0.4040 - acc: 0.8346\n",
      "Epoch 10/100\n",
      "8000/8000 [==============================] - 1s 95us/step - loss: 0.4032 - acc: 0.8347\n",
      "Epoch 11/100\n",
      "8000/8000 [==============================] - 1s 94us/step - loss: 0.4020 - acc: 0.8325\n",
      "Epoch 12/100\n",
      "8000/8000 [==============================] - 1s 95us/step - loss: 0.4014 - acc: 0.8344\n",
      "Epoch 13/100\n",
      "8000/8000 [==============================] - 1s 95us/step - loss: 0.4004 - acc: 0.8336\n",
      "Epoch 14/100\n",
      "8000/8000 [==============================] - 1s 95us/step - loss: 0.4000 - acc: 0.8364\n",
      "Epoch 15/100\n",
      "8000/8000 [==============================] - 1s 95us/step - loss: 0.3995 - acc: 0.8344\n",
      "Epoch 16/100\n",
      "8000/8000 [==============================] - 1s 96us/step - loss: 0.3991 - acc: 0.8345\n",
      "Epoch 17/100\n",
      "8000/8000 [==============================] - 1s 96us/step - loss: 0.3987 - acc: 0.8347\n",
      "Epoch 18/100\n",
      "8000/8000 [==============================] - 1s 96us/step - loss: 0.3984 - acc: 0.8339\n",
      "Epoch 19/100\n",
      "8000/8000 [==============================] - 1s 95us/step - loss: 0.3980 - acc: 0.8352\n",
      "Epoch 20/100\n",
      "8000/8000 [==============================] - 1s 97us/step - loss: 0.3971 - acc: 0.8334\n",
      "Epoch 21/100\n",
      "8000/8000 [==============================] - 1s 95us/step - loss: 0.3976 - acc: 0.8361\n",
      "Epoch 22/100\n",
      "8000/8000 [==============================] - 1s 96us/step - loss: 0.3971 - acc: 0.8361\n",
      "Epoch 23/100\n",
      "8000/8000 [==============================] - 1s 96us/step - loss: 0.3973 - acc: 0.8351\n",
      "Epoch 24/100\n",
      "8000/8000 [==============================] - 1s 95us/step - loss: 0.3966 - acc: 0.8366\n",
      "Epoch 25/100\n",
      "8000/8000 [==============================] - 1s 96us/step - loss: 0.3961 - acc: 0.8359\n",
      "Epoch 26/100\n",
      "8000/8000 [==============================] - 1s 100us/step - loss: 0.3966 - acc: 0.8359\n",
      "Epoch 27/100\n",
      "8000/8000 [==============================] - 1s 117us/step - loss: 0.3959 - acc: 0.8355\n",
      "Epoch 28/100\n",
      "8000/8000 [==============================] - 1s 105us/step - loss: 0.3955 - acc: 0.8354\n",
      "Epoch 29/100\n",
      "8000/8000 [==============================] - 1s 86us/step - loss: 0.3957 - acc: 0.8362\n",
      "Epoch 30/100\n",
      "8000/8000 [==============================] - 1s 87us/step - loss: 0.3955 - acc: 0.8351\n",
      "Epoch 31/100\n",
      "8000/8000 [==============================] - 1s 87us/step - loss: 0.3955 - acc: 0.8350\n",
      "Epoch 32/100\n",
      "8000/8000 [==============================] - 1s 95us/step - loss: 0.3952 - acc: 0.8355\n",
      "Epoch 33/100\n",
      "8000/8000 [==============================] - 1s 90us/step - loss: 0.3948 - acc: 0.8374\n",
      "Epoch 34/100\n",
      "8000/8000 [==============================] - 1s 91us/step - loss: 0.3951 - acc: 0.8360\n",
      "Epoch 35/100\n",
      "8000/8000 [==============================] - 1s 102us/step - loss: 0.3942 - acc: 0.8354\n",
      "Epoch 36/100\n",
      "8000/8000 [==============================] - 1s 93us/step - loss: 0.3946 - acc: 0.8375\n",
      "Epoch 37/100\n",
      "8000/8000 [==============================] - 1s 88us/step - loss: 0.3937 - acc: 0.8379\n",
      "Epoch 38/100\n",
      "8000/8000 [==============================] - 1s 99us/step - loss: 0.3942 - acc: 0.8370\n",
      "Epoch 39/100\n",
      "8000/8000 [==============================] - 1s 98us/step - loss: 0.3941 - acc: 0.8372\n",
      "Epoch 40/100\n",
      "8000/8000 [==============================] - 1s 97us/step - loss: 0.3941 - acc: 0.8357\n",
      "Epoch 41/100\n",
      "8000/8000 [==============================] - 1s 111us/step - loss: 0.3938 - acc: 0.8371\n",
      "Epoch 42/100\n",
      "8000/8000 [==============================] - 1s 116us/step - loss: 0.3933 - acc: 0.8371\n",
      "Epoch 43/100\n",
      "8000/8000 [==============================] - 1s 99us/step - loss: 0.3928 - acc: 0.8391\n",
      "Epoch 44/100\n",
      "8000/8000 [==============================] - 1s 88us/step - loss: 0.3922 - acc: 0.8387\n",
      "Epoch 45/100\n",
      "8000/8000 [==============================] - 1s 88us/step - loss: 0.3914 - acc: 0.8410\n",
      "Epoch 46/100\n",
      "8000/8000 [==============================] - 1s 98us/step - loss: 0.3908 - acc: 0.8409\n",
      "Epoch 47/100\n",
      "8000/8000 [==============================] - 1s 94us/step - loss: 0.3889 - acc: 0.8404\n",
      "Epoch 48/100\n",
      "8000/8000 [==============================] - 1s 95us/step - loss: 0.3875 - acc: 0.8392\n",
      "Epoch 49/100\n",
      "8000/8000 [==============================] - 1s 97us/step - loss: 0.3825 - acc: 0.8387\n",
      "Epoch 50/100\n",
      "8000/8000 [==============================] - 1s 86us/step - loss: 0.3756 - acc: 0.8414\n",
      "Epoch 51/100\n",
      "8000/8000 [==============================] - 1s 86us/step - loss: 0.3667 - acc: 0.8502\n",
      "Epoch 52/100\n",
      "8000/8000 [==============================] - 1s 87us/step - loss: 0.3586 - acc: 0.8540\n",
      "Epoch 53/100\n",
      "8000/8000 [==============================] - 1s 86us/step - loss: 0.3528 - acc: 0.8557\n",
      "Epoch 54/100\n",
      "8000/8000 [==============================] - 1s 89us/step - loss: 0.3493 - acc: 0.8575\n",
      "Epoch 55/100\n",
      "8000/8000 [==============================] - 1s 87us/step - loss: 0.3470 - acc: 0.8597\n",
      "Epoch 56/100\n",
      "8000/8000 [==============================] - 1s 87us/step - loss: 0.3458 - acc: 0.8595\n",
      "Epoch 57/100\n",
      "8000/8000 [==============================] - 1s 86us/step - loss: 0.3446 - acc: 0.8616\n",
      "Epoch 58/100\n",
      "8000/8000 [==============================] - 1s 103us/step - loss: 0.3448 - acc: 0.8597\n",
      "Epoch 59/100\n",
      "8000/8000 [==============================] - 1s 123us/step - loss: 0.3429 - acc: 0.8619\n",
      "Epoch 60/100\n",
      "8000/8000 [==============================] - 1s 92us/step - loss: 0.3429 - acc: 0.8626\n",
      "Epoch 61/100\n",
      "8000/8000 [==============================] - 1s 91us/step - loss: 0.3422 - acc: 0.8614\n",
      "Epoch 62/100\n",
      "8000/8000 [==============================] - 1s 91us/step - loss: 0.3417 - acc: 0.8640\n",
      "Epoch 63/100\n",
      "8000/8000 [==============================] - 1s 103us/step - loss: 0.3421 - acc: 0.8620\n",
      "Epoch 64/100\n",
      "8000/8000 [==============================] - 1s 91us/step - loss: 0.3412 - acc: 0.8610\n",
      "Epoch 65/100\n",
      "8000/8000 [==============================] - 1s 92us/step - loss: 0.3410 - acc: 0.8629\n",
      "Epoch 66/100\n",
      "8000/8000 [==============================] - 1s 93us/step - loss: 0.3414 - acc: 0.8617\n",
      "Epoch 67/100\n",
      "8000/8000 [==============================] - 1s 89us/step - loss: 0.3409 - acc: 0.8624: 0s - loss: 0.3385 - a\n",
      "Epoch 68/100\n",
      "8000/8000 [==============================] - 1s 90us/step - loss: 0.3404 - acc: 0.8595\n",
      "Epoch 69/100\n",
      "8000/8000 [==============================] - 1s 90us/step - loss: 0.3400 - acc: 0.8620\n",
      "Epoch 70/100\n",
      "8000/8000 [==============================] - 1s 97us/step - loss: 0.3398 - acc: 0.8626\n",
      "Epoch 71/100\n",
      "8000/8000 [==============================] - 1s 97us/step - loss: 0.3395 - acc: 0.8632\n",
      "Epoch 72/100\n",
      "8000/8000 [==============================] - 1s 95us/step - loss: 0.3398 - acc: 0.8622\n",
      "Epoch 73/100\n",
      "8000/8000 [==============================] - 1s 103us/step - loss: 0.3392 - acc: 0.8622\n",
      "Epoch 74/100\n",
      "8000/8000 [==============================] - 1s 101us/step - loss: 0.3388 - acc: 0.8610\n",
      "Epoch 75/100\n",
      "8000/8000 [==============================] - 1s 102us/step - loss: 0.3384 - acc: 0.8617\n",
      "Epoch 76/100\n",
      "8000/8000 [==============================] - 1s 88us/step - loss: 0.3381 - acc: 0.8616\n",
      "Epoch 77/100\n",
      "8000/8000 [==============================] - 1s 88us/step - loss: 0.3384 - acc: 0.8615\n",
      "Epoch 78/100\n",
      "8000/8000 [==============================] - 1s 87us/step - loss: 0.3376 - acc: 0.8622\n",
      "Epoch 79/100\n",
      "8000/8000 [==============================] - 1s 88us/step - loss: 0.3378 - acc: 0.8627\n",
      "Epoch 80/100\n",
      "8000/8000 [==============================] - 1s 88us/step - loss: 0.3371 - acc: 0.8605\n",
      "Epoch 81/100\n",
      "8000/8000 [==============================] - 1s 89us/step - loss: 0.3373 - acc: 0.8605\n",
      "Epoch 82/100\n"
     ]
    },
    {
     "name": "stdout",
     "output_type": "stream",
     "text": [
      "8000/8000 [==============================] - 1s 97us/step - loss: 0.3372 - acc: 0.8615\n",
      "Epoch 83/100\n",
      "8000/8000 [==============================] - 1s 91us/step - loss: 0.3372 - acc: 0.8617\n",
      "Epoch 84/100\n",
      "8000/8000 [==============================] - 1s 94us/step - loss: 0.3372 - acc: 0.8607\n",
      "Epoch 85/100\n",
      "8000/8000 [==============================] - 1s 90us/step - loss: 0.3368 - acc: 0.8635\n",
      "Epoch 86/100\n",
      "8000/8000 [==============================] - 1s 90us/step - loss: 0.3363 - acc: 0.8626\n",
      "Epoch 87/100\n",
      "8000/8000 [==============================] - 1s 90us/step - loss: 0.3369 - acc: 0.8620\n",
      "Epoch 88/100\n",
      "8000/8000 [==============================] - 1s 89us/step - loss: 0.3366 - acc: 0.8612\n",
      "Epoch 89/100\n",
      "8000/8000 [==============================] - 1s 88us/step - loss: 0.3361 - acc: 0.8642\n",
      "Epoch 90/100\n",
      "8000/8000 [==============================] - 1s 88us/step - loss: 0.3366 - acc: 0.8622\n",
      "Epoch 91/100\n",
      "8000/8000 [==============================] - 1s 87us/step - loss: 0.3366 - acc: 0.8626\n",
      "Epoch 92/100\n",
      "8000/8000 [==============================] - 1s 87us/step - loss: 0.3363 - acc: 0.8631\n",
      "Epoch 93/100\n",
      "8000/8000 [==============================] - 1s 87us/step - loss: 0.3361 - acc: 0.8604\n",
      "Epoch 94/100\n",
      "8000/8000 [==============================] - 1s 88us/step - loss: 0.3360 - acc: 0.8629\n",
      "Epoch 95/100\n",
      "8000/8000 [==============================] - 1s 88us/step - loss: 0.3363 - acc: 0.8619\n",
      "Epoch 96/100\n",
      "8000/8000 [==============================] - 1s 88us/step - loss: 0.3360 - acc: 0.8635\n",
      "Epoch 97/100\n",
      "8000/8000 [==============================] - 1s 88us/step - loss: 0.3352 - acc: 0.8629\n",
      "Epoch 98/100\n",
      "8000/8000 [==============================] - 1s 88us/step - loss: 0.3361 - acc: 0.8630\n",
      "Epoch 99/100\n",
      "8000/8000 [==============================] - 1s 88us/step - loss: 0.3367 - acc: 0.8621\n",
      "Epoch 100/100\n",
      "8000/8000 [==============================] - 1s 88us/step - loss: 0.3354 - acc: 0.8622\n"
     ]
    },
    {
     "data": {
      "text/plain": [
       "<keras.callbacks.History at 0x191c4712eb8>"
      ]
     },
     "execution_count": 36,
     "metadata": {},
     "output_type": "execute_result"
    }
   ],
   "source": [
    "# Part 2 - Now let's make the ANN!\n",
    "\n",
    "# Importing the Keras libraries and packages\n",
    "import keras\n",
    "from keras.models import Sequential\n",
    "from keras.layers import Dense\n",
    "\n",
    "# Initialising the ANN\n",
    "classifier = Sequential()\n",
    "\n",
    "# Adding the input layer and the first hidden layer\n",
    "classifier.add(Dense(units = 6, kernel_initializer = 'uniform', activation = 'relu', input_dim = 11))\n",
    "\n",
    "# Adding the second hidden layer\n",
    "classifier.add(Dense(units = 6, kernel_initializer = 'uniform', activation = 'relu'))\n",
    "\n",
    "# Adding the output layer\n",
    "classifier.add(Dense(units = 1, kernel_initializer = 'uniform', activation = 'sigmoid'))\n",
    "\n",
    "# Compiling the ANN\n",
    "classifier.compile(optimizer = 'adam', loss = 'binary_crossentropy', metrics = ['accuracy'])\n",
    "\n",
    "# Fitting the ANN to the Training set\n",
    "classifier.fit(X_train, y_train, batch_size = 10, epochs = 100)\n",
    "\n"
   ]
  },
  {
   "cell_type": "code",
   "execution_count": 37,
   "metadata": {},
   "outputs": [],
   "source": [
    "# Part 3 - Making predictions and evaluating the model\n",
    "\n",
    "# Predicting the Test set results\n",
    "y_pred = classifier.predict(X_test)\n",
    "\n"
   ]
  },
  {
   "cell_type": "code",
   "execution_count": 13,
   "metadata": {},
   "outputs": [
    {
     "data": {
      "text/plain": [
       "array([[0.2335441 ],\n",
       "       [0.31441164],\n",
       "       [0.18123636],\n",
       "       ...,\n",
       "       [0.19054785],\n",
       "       [0.18393268],\n",
       "       [0.11150114]], dtype=float32)"
      ]
     },
     "execution_count": 13,
     "metadata": {},
     "output_type": "execute_result"
    }
   ],
   "source": [
    "y_pred"
   ]
  },
  {
   "cell_type": "code",
   "execution_count": 14,
   "metadata": {},
   "outputs": [],
   "source": [
    "y_pred = (y_pred > 0.5)"
   ]
  },
  {
   "cell_type": "code",
   "execution_count": 15,
   "metadata": {},
   "outputs": [
    {
     "data": {
      "text/plain": [
       "array([[False],\n",
       "       [False],\n",
       "       [False],\n",
       "       ...,\n",
       "       [False],\n",
       "       [False],\n",
       "       [False]])"
      ]
     },
     "execution_count": 15,
     "metadata": {},
     "output_type": "execute_result"
    }
   ],
   "source": [
    "y_pred"
   ]
  },
  {
   "cell_type": "code",
   "execution_count": 16,
   "metadata": {},
   "outputs": [],
   "source": [
    "\n",
    "# Making the Confusion Matrix\n",
    "from sklearn.metrics import confusion_matrix\n",
    "cm = confusion_matrix(y_test, y_pred)"
   ]
  },
  {
   "cell_type": "code",
   "execution_count": 17,
   "metadata": {},
   "outputs": [
    {
     "data": {
      "text/plain": [
       "array([[1532,   63],\n",
       "       [ 252,  153]], dtype=int64)"
      ]
     },
     "execution_count": 17,
     "metadata": {},
     "output_type": "execute_result"
    }
   ],
   "source": [
    "cm"
   ]
  },
  {
   "cell_type": "markdown",
   "metadata": {},
   "source": [
    "Use our ANN model to predict if the customer with the following informations will leave the bank: \n",
    "\n",
    "Geography: Spain\n",
    "Credit Score: 600\n",
    "Gender: Male\n",
    "Age: 40 years old\n",
    "Tenure: 3 years\n",
    "Balance: $60000\n",
    "Number of Products: 2\n",
    "Does this customer have a credit card ? Yes\n",
    "Is this customer an Active Member: Yes\n",
    "Estimated Salary: $50000"
   ]
  },
  {
   "cell_type": "code",
   "execution_count": 42,
   "metadata": {},
   "outputs": [
    {
     "data": {
      "text/plain": [
       "array([608, 'Spain', 'Female', 41, 1, 83807.86, 1, 0, 1, 112542.58],\n",
       "      dtype=object)"
      ]
     },
     "execution_count": 42,
     "metadata": {},
     "output_type": "execute_result"
    }
   ],
   "source": [
    "dataset.iloc[:, 3:13].values[1]"
   ]
  },
  {
   "cell_type": "code",
   "execution_count": 39,
   "metadata": {},
   "outputs": [
    {
     "data": {
      "text/plain": [
       "array([0.0000000e+00, 1.0000000e+00, 6.0800000e+02, 0.0000000e+00,\n",
       "       4.1000000e+01, 1.0000000e+00, 8.3807860e+04, 1.0000000e+00,\n",
       "       0.0000000e+00, 1.0000000e+00, 1.1254258e+05])"
      ]
     },
     "execution_count": 39,
     "metadata": {},
     "output_type": "execute_result"
    }
   ],
   "source": [
    "Encoded_data"
   ]
  },
  {
   "cell_type": "code",
   "execution_count": 49,
   "metadata": {},
   "outputs": [],
   "source": [
    "new_customer = classifier.predict(sc.transform(np.array([[0.0,0.0,600,1,40,3,60000,2,1,1,50000]])))"
   ]
  },
  {
   "cell_type": "code",
   "execution_count": 50,
   "metadata": {},
   "outputs": [
    {
     "data": {
      "text/plain": [
       "array([[False]])"
      ]
     },
     "execution_count": 50,
     "metadata": {},
     "output_type": "execute_result"
    }
   ],
   "source": [
    "new_customer = (new_customer > 0.5)\n",
    "new_customer"
   ]
  },
  {
   "cell_type": "code",
   "execution_count": null,
   "metadata": {},
   "outputs": [],
   "source": []
  }
 ],
 "metadata": {
  "kernelspec": {
   "display_name": "Python 3",
   "language": "python",
   "name": "python3"
  },
  "language_info": {
   "codemirror_mode": {
    "name": "ipython",
    "version": 3
   },
   "file_extension": ".py",
   "mimetype": "text/x-python",
   "name": "python",
   "nbconvert_exporter": "python",
   "pygments_lexer": "ipython3",
   "version": "3.6.3"
  }
 },
 "nbformat": 4,
 "nbformat_minor": 2
}
